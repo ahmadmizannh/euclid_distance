{
 "cells": [
  {
   "cell_type": "markdown",
   "metadata": {},
   "source": [
    "# Calculating Distance Using Python code"
   ]
  },
  {
   "cell_type": "markdown",
   "metadata": {
    "id": "TtBM_mRhnqWH"
   },
   "source": [
    "After learn about the basic and the implementation. It will get a lot easier to understand the code"
   ]
  },
  {
   "cell_type": "markdown",
   "metadata": {},
   "source": [
    "## Using Math"
   ]
  },
  {
   "cell_type": "code",
   "execution_count": 15,
   "metadata": {
    "id": "IeOwwenhW6E0"
   },
   "outputs": [],
   "source": [
    "from math import sqrt"
   ]
  },
  {
   "cell_type": "code",
   "execution_count": 16,
   "metadata": {
    "id": "ecsS6TqVniE5"
   },
   "outputs": [],
   "source": [
    "x1 = 1\n",
    "y1 = 3\n",
    "x2 = 3\n",
    "y2 = 5\n",
    "\n",
    "def f_distance(x1,x2,y1,y2):\n",
    "    return sqrt((x2-x1)**2+(y2-y1)**2)"
   ]
  },
  {
   "cell_type": "code",
   "execution_count": 17,
   "metadata": {
    "id": "OT8UmkmCn1Uc"
   },
   "outputs": [],
   "source": [
    "distance = f_distance(x1, x2, y1, y2)"
   ]
  },
  {
   "cell_type": "code",
   "execution_count": 18,
   "metadata": {
    "colab": {
     "base_uri": "https://localhost:8080/"
    },
    "id": "7rtR7Y96ntQZ",
    "outputId": "5284bb9f-149f-423e-9f78-bf52294722f9"
   },
   "outputs": [
    {
     "name": "stdout",
     "output_type": "stream",
     "text": [
      "euclidean distance = 2.83\n"
     ]
    }
   ],
   "source": [
    "print(\"euclidean distance = {:.2f}\".format(distance))"
   ]
  },
  {
   "cell_type": "markdown",
   "metadata": {},
   "source": [
    "Well now we want to input the variable freely so it goes like this :"
   ]
  },
  {
   "cell_type": "code",
   "execution_count": 19,
   "metadata": {
    "colab": {
     "base_uri": "https://localhost:8080/"
    },
    "id": "gPoWU8vLoCsY",
    "outputId": "12145108-cf35-44e3-88c3-99fc5ac7b424"
   },
   "outputs": [
    {
     "name": "stdout",
     "output_type": "stream",
     "text": [
      "insert please : 1\n",
      "insert please : 3\n",
      "insert please : 3\n",
      "insert please : 5\n"
     ]
    }
   ],
   "source": [
    "x1 = float(input(\"insert please : \"))\n",
    "y1 = float(input(\"insert please : \"))\n",
    "x2 = float(input(\"insert please : \"))\n",
    "y2 = float(input(\"insert please : \"))\n",
    "def f_distance(x1,x2,y1,y2):\n",
    "    return sqrt((x2-x1)**2+(y2-y1)**2)"
   ]
  },
  {
   "cell_type": "code",
   "execution_count": 20,
   "metadata": {
    "id": "09XLY3BPot7c"
   },
   "outputs": [],
   "source": [
    "distance = f_distance(x1, x2, y1, y2)"
   ]
  },
  {
   "cell_type": "code",
   "execution_count": 21,
   "metadata": {
    "colab": {
     "base_uri": "https://localhost:8080/"
    },
    "id": "NMoFNJ9foCbE",
    "outputId": "87e72b77-a2d5-4dc7-99de-1cdb102ded59"
   },
   "outputs": [
    {
     "name": "stdout",
     "output_type": "stream",
     "text": [
      "euclidean distance = 2.83\n"
     ]
    }
   ],
   "source": [
    "print(\"euclidean distance = {:.2f}\".format(distance))"
   ]
  },
  {
   "cell_type": "markdown",
   "metadata": {
    "id": "6ghDYIPhntCX"
   },
   "source": [
    "## Using Numpy"
   ]
  },
  {
   "cell_type": "markdown",
   "metadata": {
    "id": "5TOTp92E3cnI"
   },
   "source": [
    "### Sum & Square"
   ]
  },
  {
   "cell_type": "code",
   "execution_count": 27,
   "metadata": {
    "id": "KyM0h0FbnsQm"
   },
   "outputs": [],
   "source": [
    "import numpy as np"
   ]
  },
  {
   "cell_type": "code",
   "execution_count": 28,
   "metadata": {
    "id": "46EPIhHA2jyg"
   },
   "outputs": [],
   "source": [
    "point1 = np.array((1,3))\n",
    "point2 = np.array((3,5))"
   ]
  },
  {
   "cell_type": "code",
   "execution_count": 29,
   "metadata": {
    "id": "W_FUxwvU261u"
   },
   "outputs": [],
   "source": [
    "square = np.square(point1 - point2)\n",
    "sum_square = np.sum(square)"
   ]
  },
  {
   "cell_type": "code",
   "execution_count": 30,
   "metadata": {
    "colab": {
     "base_uri": "https://localhost:8080/"
    },
    "id": "SfdGLTzN2-Sn",
    "outputId": "7968cd15-f58f-4e74-de3b-0b10a079034a"
   },
   "outputs": [
    {
     "name": "stdout",
     "output_type": "stream",
     "text": [
      "2.8284271247461903\n"
     ]
    }
   ],
   "source": [
    "dist = np.sqrt(sum_square)\n",
    "print(dist)"
   ]
  },
  {
   "cell_type": "markdown",
   "metadata": {
    "id": "ZN14-jhK3gPp"
   },
   "source": [
    "### Dot"
   ]
  },
  {
   "cell_type": "code",
   "execution_count": 31,
   "metadata": {
    "colab": {
     "base_uri": "https://localhost:8080/"
    },
    "id": "ecR4apnW3hSv",
    "outputId": "81f9e3b7-8e0a-4000-ea7b-def662f5a7ac"
   },
   "outputs": [
    {
     "name": "stdout",
     "output_type": "stream",
     "text": [
      "2.8284271247461903\n"
     ]
    }
   ],
   "source": [
    "# Take the difference between the 2 points\n",
    "diff = point1 - point2\n",
    "# Perform the dot product on the point with itself to get the sum of the squares\n",
    "sum_square = np.dot(diff, diff)\n",
    "# Get the square root of the result\n",
    "dist = np.sqrt(sum_square)\n",
    "print(dist)"
   ]
  }
 ],
 "metadata": {
  "colab": {
   "name": "Euclidean_Distance",
   "provenance": []
  },
  "kernelspec": {
   "display_name": "Python 3 (ipykernel)",
   "language": "python",
   "name": "python3"
  },
  "language_info": {
   "codemirror_mode": {
    "name": "ipython",
    "version": 3
   },
   "file_extension": ".py",
   "mimetype": "text/x-python",
   "name": "python",
   "nbconvert_exporter": "python",
   "pygments_lexer": "ipython3",
   "version": "3.9.12"
  }
 },
 "nbformat": 4,
 "nbformat_minor": 1
}
