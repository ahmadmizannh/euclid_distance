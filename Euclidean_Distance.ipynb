{
  "nbformat": 4,
  "nbformat_minor": 0,
  "metadata": {
    "colab": {
      "name": "Euclidean_Distance",
      "provenance": []
    },
    "kernelspec": {
      "name": "python3",
      "display_name": "Python 3"
    },
    "language_info": {
      "name": "python"
    }
  },
  "cells": [
    {
      "cell_type": "markdown",
      "source": [
        "Math"
      ],
      "metadata": {
        "id": "TtBM_mRhnqWH"
      }
    },
    {
      "cell_type": "code",
      "execution_count": null,
      "metadata": {
        "id": "IeOwwenhW6E0"
      },
      "outputs": [],
      "source": [
        "from math import sqrt"
      ]
    },
    {
      "cell_type": "code",
      "source": [
        "x1 = 1\n",
        "y1 = 3\n",
        "x2 = 3\n",
        "y2 = 5\n",
        "\n",
        "def f_distance(x1,x2,y1,y2):\n",
        "    return sqrt((x2-x1)**2+(y2-y1)**2)"
      ],
      "metadata": {
        "id": "ecsS6TqVniE5"
      },
      "execution_count": null,
      "outputs": []
    },
    {
      "cell_type": "code",
      "source": [
        "distance = f_distance(x1, x2, y1, y2)"
      ],
      "metadata": {
        "id": "OT8UmkmCn1Uc"
      },
      "execution_count": null,
      "outputs": []
    },
    {
      "cell_type": "code",
      "source": [
        "print(\"euclidean distance = {:.2f}\".format(distance))"
      ],
      "metadata": {
        "colab": {
          "base_uri": "https://localhost:8080/"
        },
        "id": "7rtR7Y96ntQZ",
        "outputId": "5284bb9f-149f-423e-9f78-bf52294722f9"
      },
      "execution_count": null,
      "outputs": [
        {
          "output_type": "stream",
          "name": "stdout",
          "text": [
            "euclidean distance = 2.83\n"
          ]
        }
      ]
    },
    {
      "cell_type": "code",
      "source": [
        "x1 = float(input(\"insert please : \"))\n",
        "y1 = float(input(\"insert please : \"))\n",
        "x2 = float(input(\"insert please : \"))\n",
        "y2 = float(input(\"insert please : \"))\n",
        "def f_distance(x1,x2,y1,y2):\n",
        "    return sqrt((x2-x1)**2+(y2-y1)**2)"
      ],
      "metadata": {
        "colab": {
          "base_uri": "https://localhost:8080/"
        },
        "id": "gPoWU8vLoCsY",
        "outputId": "12145108-cf35-44e3-88c3-99fc5ac7b424"
      },
      "execution_count": null,
      "outputs": [
        {
          "name": "stdout",
          "output_type": "stream",
          "text": [
            "insert please : 3\n",
            "insert please : 5\n",
            "insert please : 4\n",
            "insert please : 2\n"
          ]
        }
      ]
    },
    {
      "cell_type": "code",
      "source": [
        "distance = f_distance(x1, x2, y1, y2)"
      ],
      "metadata": {
        "id": "09XLY3BPot7c"
      },
      "execution_count": null,
      "outputs": []
    },
    {
      "cell_type": "code",
      "source": [
        "print(\"euclidean distance = {:.2f}\".format(distance))"
      ],
      "metadata": {
        "colab": {
          "base_uri": "https://localhost:8080/"
        },
        "id": "NMoFNJ9foCbE",
        "outputId": "87e72b77-a2d5-4dc7-99de-1cdb102ded59"
      },
      "execution_count": null,
      "outputs": [
        {
          "output_type": "stream",
          "name": "stdout",
          "text": [
            "euclidean distance = 3.16\n"
          ]
        }
      ]
    },
    {
      "cell_type": "markdown",
      "source": [
        "Numpy"
      ],
      "metadata": {
        "id": "6ghDYIPhntCX"
      }
    },
    {
      "cell_type": "markdown",
      "source": [
        "Sum & Square"
      ],
      "metadata": {
        "id": "5TOTp92E3cnI"
      }
    },
    {
      "cell_type": "code",
      "source": [
        "import numpy as np"
      ],
      "metadata": {
        "id": "KyM0h0FbnsQm"
      },
      "execution_count": null,
      "outputs": []
    },
    {
      "cell_type": "code",
      "source": [
        "point1 = np.array((3,5))\n",
        "point2 = np.array((4,2))"
      ],
      "metadata": {
        "id": "46EPIhHA2jyg"
      },
      "execution_count": null,
      "outputs": []
    },
    {
      "cell_type": "code",
      "source": [
        "square = np.square(point1 - point2)\n",
        "sum_square = np.sum(square)"
      ],
      "metadata": {
        "id": "W_FUxwvU261u"
      },
      "execution_count": null,
      "outputs": []
    },
    {
      "cell_type": "code",
      "source": [
        "dist = np.sqrt(sum_square)\n",
        "print(dist)"
      ],
      "metadata": {
        "colab": {
          "base_uri": "https://localhost:8080/"
        },
        "id": "SfdGLTzN2-Sn",
        "outputId": "7968cd15-f58f-4e74-de3b-0b10a079034a"
      },
      "execution_count": null,
      "outputs": [
        {
          "output_type": "stream",
          "name": "stdout",
          "text": [
            "3.1622776601683795\n"
          ]
        }
      ]
    },
    {
      "cell_type": "markdown",
      "source": [
        "Dot"
      ],
      "metadata": {
        "id": "ZN14-jhK3gPp"
      }
    },
    {
      "cell_type": "code",
      "source": [
        "# Take the difference between the 2 points\n",
        "diff = point1 - point2\n",
        "# Perform the dot product on the point with itself to get the sum of the squares\n",
        "sum_square = np.dot(diff, diff)\n",
        "# Get the square root of the result\n",
        "dist = np.sqrt(sum_square)\n",
        "print(dist)"
      ],
      "metadata": {
        "colab": {
          "base_uri": "https://localhost:8080/"
        },
        "id": "ecR4apnW3hSv",
        "outputId": "81f9e3b7-8e0a-4000-ea7b-def662f5a7ac"
      },
      "execution_count": null,
      "outputs": [
        {
          "output_type": "stream",
          "name": "stdout",
          "text": [
            "3.1622776601683795\n"
          ]
        }
      ]
    }
  ]
}